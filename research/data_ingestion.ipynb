{
 "cells": [
  {
   "cell_type": "code",
   "execution_count": 1,
   "id": "15b67667",
   "metadata": {},
   "outputs": [
    {
     "name": "stdout",
     "output_type": "stream",
     "text": [
      "hello\n"
     ]
    }
   ],
   "source": [
    "print(\"hello\")"
   ]
  },
  {
   "cell_type": "code",
   "execution_count": 2,
   "id": "a0f2dc5f",
   "metadata": {},
   "outputs": [
    {
     "data": {
      "text/plain": [
       "'e:\\\\MLOPS D\\\\MLOPS_PROJ_ON_DELHI_AIR_QUALITY\\\\research'"
      ]
     },
     "execution_count": 2,
     "metadata": {},
     "output_type": "execute_result"
    }
   ],
   "source": [
    "%pwd"
   ]
  },
  {
   "cell_type": "code",
   "execution_count": 3,
   "id": "ec49e219",
   "metadata": {},
   "outputs": [],
   "source": [
    "import os\n",
    "os.chdir(\"../\")"
   ]
  },
  {
   "cell_type": "code",
   "execution_count": 53,
   "id": "0420a439",
   "metadata": {},
   "outputs": [
    {
     "data": {
      "text/plain": [
       "'e:\\\\MLOPS D\\\\MLOPS_PROJ_ON_DELHI_AIR_QUALITY'"
      ]
     },
     "execution_count": 53,
     "metadata": {},
     "output_type": "execute_result"
    }
   ],
   "source": [
    "%pwd"
   ]
  },
  {
   "cell_type": "code",
   "execution_count": 54,
   "id": "6bdbfb44",
   "metadata": {},
   "outputs": [],
   "source": [
    "# # 1 - update the constant/__init__.py\n",
    "# from pathlib import Path\n",
    "\n",
    "# CONFIG_FILE_PATH = Path(\"config/config.yaml\")\n",
    "# SCHEMA_FILE_PATH = Path(\"schema.yaml\")\n",
    "# PARAMS_FILE_PATH = Path(\"params.yaml\")"
   ]
  },
  {
   "cell_type": "code",
   "execution_count": 55,
   "id": "4559159d",
   "metadata": {},
   "outputs": [],
   "source": [
    "# # 2 - update the config/config.yaml\n",
    "# artifacts_root: artifacts\n",
    "\n",
    "# data_ingestion:\n",
    "#   root_dir : artifacts/data_ingestion\n",
    "#   SOURCE_URL : https://github.com/ayaz-125/Dataset1/blob/main/Air_quality_dataset.zip\n",
    "#   local_data_path : artifacts/data_ingestion/data.zip\n",
    "#   unzip_path : artifacts/data_ingestion\n",
    "  "
   ]
  },
  {
   "cell_type": "code",
   "execution_count": 59,
   "id": "df251746",
   "metadata": {},
   "outputs": [],
   "source": [
    "# 3 - update the entity/config_entity.py file\n",
    "from pathlib import Path\n",
    "from dataclasses import dataclass\n",
    "\n",
    "@dataclass(frozen=True)\n",
    "class DataIngestionConfig:\n",
    "    root_dir:Path\n",
    "    SOURCE_URL:str\n",
    "    local_data_path:Path\n",
    "    unzip_path:Path"
   ]
  },
  {
   "cell_type": "code",
   "execution_count": 61,
   "id": "b09985cd",
   "metadata": {},
   "outputs": [
    {
     "ename": "NameError",
     "evalue": "name 'logger' is not defined",
     "output_type": "error",
     "traceback": [
      "\u001b[1;31m---------------------------------------------------------------------------\u001b[0m",
      "\u001b[1;31mNameError\u001b[0m                                 Traceback (most recent call last)",
      "Cell \u001b[1;32mIn[61], line 32\u001b[0m\n\u001b[0;32m     22\u001b[0m         data_ingestion_config \u001b[38;5;241m=\u001b[39m DataIngestionConfig(\n\u001b[0;32m     23\u001b[0m             root_dir \u001b[38;5;241m=\u001b[39m config\u001b[38;5;241m.\u001b[39mroot_dir,\n\u001b[0;32m     24\u001b[0m             SOURCE_URL \u001b[38;5;241m=\u001b[39m config\u001b[38;5;241m.\u001b[39mSOURCE_URL,\n\u001b[1;32m   (...)\u001b[0m\n\u001b[0;32m     27\u001b[0m \n\u001b[0;32m     28\u001b[0m         )\n\u001b[0;32m     30\u001b[0m         \u001b[38;5;28;01mreturn\u001b[39;00m data_ingestion_config\n\u001b[1;32m---> 32\u001b[0m obje \u001b[38;5;241m=\u001b[39m \u001b[43mConfigurationManager\u001b[49m\u001b[43m(\u001b[49m\u001b[43m)\u001b[49m\n\u001b[0;32m     33\u001b[0m new \u001b[38;5;241m=\u001b[39m obje\u001b[38;5;241m.\u001b[39mget_data_ingestion_config()\n\u001b[0;32m     34\u001b[0m \u001b[38;5;28mprint\u001b[39m(new\u001b[38;5;241m.\u001b[39mroot_dir)\n",
      "Cell \u001b[1;32mIn[61], line 16\u001b[0m, in \u001b[0;36mConfigurationManager.__init__\u001b[1;34m(self, config_file_path, schema_file_path, params_file_path)\u001b[0m\n\u001b[0;32m     13\u001b[0m \u001b[38;5;28mself\u001b[39m\u001b[38;5;241m.\u001b[39mparams \u001b[38;5;241m=\u001b[39m read_yaml(params_file_path)\n\u001b[0;32m     14\u001b[0m \u001b[38;5;28mself\u001b[39m\u001b[38;5;241m.\u001b[39mschema \u001b[38;5;241m=\u001b[39m read_yaml(schema_file_path)\n\u001b[1;32m---> 16\u001b[0m \u001b[43mcreate_dir\u001b[49m\u001b[43m(\u001b[49m\u001b[43m[\u001b[49m\u001b[38;5;28;43mself\u001b[39;49m\u001b[38;5;241;43m.\u001b[39;49m\u001b[43mconfig\u001b[49m\u001b[38;5;241;43m.\u001b[39;49m\u001b[43martifacts_root\u001b[49m\u001b[43m]\u001b[49m\u001b[43m)\u001b[49m\n",
      "File \u001b[1;32me:\\Users\\HP\\anaconda3\\envs\\air\\lib\\site-packages\\ensure\\main.py:807\u001b[0m, in \u001b[0;36mWrappedFunction.__call__\u001b[1;34m(self, *args, **kwargs)\u001b[0m\n\u001b[0;32m    799\u001b[0m         msg \u001b[38;5;241m=\u001b[39m (\n\u001b[0;32m    800\u001b[0m             \u001b[38;5;124m\"\u001b[39m\u001b[38;5;124mArgument \u001b[39m\u001b[38;5;132;01m{arg}\u001b[39;00m\u001b[38;5;124m of type \u001b[39m\u001b[38;5;132;01m{valt}\u001b[39;00m\u001b[38;5;124m to \u001b[39m\u001b[38;5;132;01m{f}\u001b[39;00m\u001b[38;5;124m \u001b[39m\u001b[38;5;124m\"\u001b[39m\n\u001b[0;32m    801\u001b[0m             \u001b[38;5;124m\"\u001b[39m\u001b[38;5;124mdoes not match annotation type \u001b[39m\u001b[38;5;132;01m{t}\u001b[39;00m\u001b[38;5;124m\"\u001b[39m\n\u001b[0;32m    802\u001b[0m         )\n\u001b[0;32m    803\u001b[0m         \u001b[38;5;28;01mraise\u001b[39;00m EnsureError(msg\u001b[38;5;241m.\u001b[39mformat(\n\u001b[0;32m    804\u001b[0m             arg\u001b[38;5;241m=\u001b[39marg, f\u001b[38;5;241m=\u001b[39m\u001b[38;5;28mself\u001b[39m\u001b[38;5;241m.\u001b[39mf, t\u001b[38;5;241m=\u001b[39mtempl, valt\u001b[38;5;241m=\u001b[39m\u001b[38;5;28mtype\u001b[39m(value)\n\u001b[0;32m    805\u001b[0m         ))\n\u001b[1;32m--> 807\u001b[0m \u001b[38;5;28;01mreturn\u001b[39;00m \u001b[38;5;28mself\u001b[39m\u001b[38;5;241m.\u001b[39mf(\u001b[38;5;241m*\u001b[39margs, \u001b[38;5;241m*\u001b[39m\u001b[38;5;241m*\u001b[39mkwargs)\n",
      "File \u001b[1;32me:\\MLOPS D\\MLOPS_PROJ_ON_DELHI_AIR_QUALITY\\src\\ml_project\\utils\\common.py:27\u001b[0m, in \u001b[0;36mcreate_dir\u001b[1;34m(directory_name, verbose)\u001b[0m\n\u001b[0;32m     25\u001b[0m os\u001b[38;5;241m.\u001b[39mmakedirs(path,exist_ok\u001b[38;5;241m=\u001b[39m\u001b[38;5;28;01mTrue\u001b[39;00m)\n\u001b[0;32m     26\u001b[0m \u001b[38;5;28;01mif\u001b[39;00m verbose:\n\u001b[1;32m---> 27\u001b[0m     \u001b[43mlogger\u001b[49m\u001b[38;5;241m.\u001b[39minfo(\u001b[38;5;124m\"\u001b[39m\u001b[38;5;124mDirectory created successfully\u001b[39m\u001b[38;5;124m\"\u001b[39m)\n",
      "\u001b[1;31mNameError\u001b[0m: name 'logger' is not defined"
     ]
    }
   ],
   "source": [
    "# 4 - update the src/config/configuration.py\n",
    "from pathlib import Path\n",
    "import os\n",
    "import sys\n",
    "from src.ml_project.constant import *\n",
    "from src.ml_project.logging.logger import logger\n",
    "from src.ml_project.utils.common import read_yaml,create_dir\n",
    "\n",
    "\n",
    "class ConfigurationManager:\n",
    "    def __init__(self,config_file_path = CONFIG_FILE_PATH,schema_file_path = SCHEMA_FILE_PATH,params_file_path = PARAMS_FILE_PATH):\n",
    "        self.config = read_yaml(config_file_path)\n",
    "        self.params = read_yaml(params_file_path)\n",
    "        self.schema = read_yaml(schema_file_path)\n",
    "\n",
    "        create_dir([self.config.artifacts_root])\n",
    "\n",
    "    def get_data_ingestion_config(self) -> DataIngestionConfig:\n",
    "        config = self.config.data_ingestion\n",
    "        create_dir([config.root_dir])\n",
    "\n",
    "        data_ingestion_config = DataIngestionConfig(\n",
    "            root_dir = config.root_dir,\n",
    "            SOURCE_URL = config.SOURCE_URL,\n",
    "            local_data_path = config.local_data_path,\n",
    "            unzip_path = config.unzip_path\n",
    "\n",
    "        )\n",
    "\n",
    "        return data_ingestion_config\n",
    "\n",
    "obje = ConfigurationManager()\n",
    "new = obje.get_data_ingestion_config()\n",
    "print(new.root_dir)\n",
    "        "
   ]
  },
  {
   "cell_type": "code",
   "execution_count": null,
   "id": "f0bd6c3b",
   "metadata": {},
   "outputs": [],
   "source": []
  }
 ],
 "metadata": {
  "kernelspec": {
   "display_name": "air",
   "language": "python",
   "name": "python3"
  },
  "language_info": {
   "codemirror_mode": {
    "name": "ipython",
    "version": 3
   },
   "file_extension": ".py",
   "mimetype": "text/x-python",
   "name": "python",
   "nbconvert_exporter": "python",
   "pygments_lexer": "ipython3",
   "version": "3.10.18"
  }
 },
 "nbformat": 4,
 "nbformat_minor": 5
}
