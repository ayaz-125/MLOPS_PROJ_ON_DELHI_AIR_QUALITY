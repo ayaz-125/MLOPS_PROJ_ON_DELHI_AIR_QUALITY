{
 "cells": [
  {
   "cell_type": "code",
   "execution_count": 1,
   "id": "1996fd85",
   "metadata": {},
   "outputs": [
    {
     "name": "stdout",
     "output_type": "stream",
     "text": [
      "hello\n"
     ]
    }
   ],
   "source": [
    "print(\"hello\")"
   ]
  },
  {
   "cell_type": "code",
   "execution_count": 2,
   "id": "93e01ae6",
   "metadata": {},
   "outputs": [
    {
     "data": {
      "text/plain": [
       "'e:\\\\MLOPS D\\\\MLOPS_PROJ_ON_DELHI_AIR_QUALITY\\\\research'"
      ]
     },
     "execution_count": 2,
     "metadata": {},
     "output_type": "execute_result"
    }
   ],
   "source": [
    "%pwd"
   ]
  },
  {
   "cell_type": "code",
   "execution_count": 3,
   "id": "1bf663a0",
   "metadata": {},
   "outputs": [],
   "source": [
    "import os\n",
    "os.chdir(\"../\")"
   ]
  },
  {
   "cell_type": "code",
   "execution_count": 4,
   "id": "ee39b55d",
   "metadata": {},
   "outputs": [
    {
     "data": {
      "text/plain": [
       "'e:\\\\MLOPS D\\\\MLOPS_PROJ_ON_DELHI_AIR_QUALITY'"
      ]
     },
     "execution_count": 4,
     "metadata": {},
     "output_type": "execute_result"
    }
   ],
   "source": [
    "%pwd"
   ]
  },
  {
   "cell_type": "code",
   "execution_count": 5,
   "id": "c4dc3568",
   "metadata": {},
   "outputs": [],
   "source": [
    "# # 1 - update the constant/__init__.py\n",
    "# from pathlib import Path\n",
    "\n",
    "# CONFIG_FILE_PATH = Path(\"config/config.yaml\")\n",
    "# SCHEMA_FILE_PATH = Path(\"schema.yaml\")\n",
    "# PARAMS_FILE_PATH = Path(\"params.yaml\")"
   ]
  },
  {
   "cell_type": "code",
   "execution_count": 6,
   "id": "edc17cfd",
   "metadata": {},
   "outputs": [],
   "source": [
    "# # 2 - update the config/config.yaml\n",
    "# artifacts_root: artifacts\n",
    "\n",
    "# data_ingestion:\n",
    "#   root_dir : artifacts/data_ingestion\n",
    "#   SOURCE_URL : https://github.com/ayaz-125/Dataset1/blob/main/Air_quality_dataset.zip\n",
    "#   local_data_path : artifacts/data_ingestion/data.zip\n",
    "#   unzip_path : artifacts/data_ingestion\n",
    "  "
   ]
  },
  {
   "cell_type": "code",
   "execution_count": 7,
   "id": "4573e50a",
   "metadata": {},
   "outputs": [],
   "source": [
    "# 3 - update the entity/config_entity.py file\n",
    "from pathlib import Path\n",
    "from dataclasses import dataclass\n",
    "\n",
    "@dataclass(frozen=True)\n",
    "class DataIngestionConfig:\n",
    "    root_dir:Path\n",
    "    SOURCE_URL:str\n",
    "    local_data_path:Path\n",
    "    unzip_path:Path"
   ]
  },
  {
   "cell_type": "code",
   "execution_count": null,
   "id": "2c07df1e",
   "metadata": {},
   "outputs": [
    {
     "name": "stdout",
     "output_type": "stream",
     "text": [
      "[2025-08-14 03:07:41,240: INFO: common: Directory created successfully]\n",
      "[2025-08-14 03:07:41,245: INFO: common: Directory created successfully]\n",
      "artifacts/data_ingestion\n"
     ]
    }
   ],
   "source": [
    "# 4 - update the src/config/configuration.py\n",
    "from pathlib import Path\n",
    "import os\n",
    "import sys\n",
    "from src.ml_project.constant import *\n",
    "from src.ml_project.logging.logger import logger\n",
    "from src.ml_project.utils.common import read_yaml,create_dir\n",
    "\n",
    "\n",
    "class ConfigurationManager:\n",
    "    def __init__(self,config_file_path = CONFIG_FILE_PATH,schema_file_path = SCHEMA_FILE_PATH,params_file_path = PARAMS_FILE_PATH):\n",
    "        self.config = read_yaml(config_file_path)\n",
    "        self.params = read_yaml(params_file_path)\n",
    "        self.schema = read_yaml(schema_file_path)\n",
    "\n",
    "        create_dir([self.config.artifacts_root])\n",
    "\n",
    "    def get_data_ingestion_config(self) -> DataIngestionConfig:\n",
    "        config = self.config.data_ingestion\n",
    "        create_dir([config.root_dir])\n",
    "\n",
    "        data_ingestion_config = DataIngestionConfig(\n",
    "            root_dir = config.root_dir,\n",
    "            SOURCE_URL = config.SOURCE_URL,\n",
    "            local_data_path = config.local_data_path,\n",
    "            unzip_path = config.unzip_path\n",
    "\n",
    "        )\n",
    "\n",
    "        return data_ingestion_config\n",
    "\n",
    "# obje = ConfigurationManager()\n",
    "# new = obje.get_data_ingestion_config()\n",
    "# print(new.root_dir)\n",
    "        "
   ]
  },
  {
   "cell_type": "code",
   "execution_count": 13,
   "id": "33b0ddb1",
   "metadata": {},
   "outputs": [],
   "source": [
    "import pandas as pd\n",
    "from src.ml_project.logging.logger import logger\n",
    "import sys\n",
    "import os \n",
    "from pathlib import Path\n",
    "import zipfile\n",
    "from src.ml_project.utils.common import get_size\n",
    "import urllib.request as request\n",
    "\n",
    "\n",
    "class DataIngestion:\n",
    "    def __init__(self,config:DataIngestionConfig):\n",
    "        self.config = config\n",
    "\n",
    "    def download_data(self):\n",
    "        if not os.path.exists(self.config.local_data_path):\n",
    "            filename,headers = request.urlretrieve(url = self.config.SOURCE_URL,filename = self.config.local_data_path)\n",
    "            logger.info(f\"{filename} downloaded successfully\")\n",
    "        else:\n",
    "            logger.info(\"file already exist\")\n",
    "    \n",
    "    def extract_data(self):\n",
    "        unzip_data = self.config.unzip_path\n",
    "        os.makedirs(unzip_data,exist_ok = True)\n",
    "        with zipfile.ZipFile(self.config.local_data_path,'r') as f:\n",
    "            f.extractall(unzip_data)\n",
    "\n",
    "\n",
    "    \n"
   ]
  },
  {
   "cell_type": "code",
   "execution_count": 15,
   "id": "b7164214",
   "metadata": {},
   "outputs": [
    {
     "name": "stdout",
     "output_type": "stream",
     "text": [
      "[2025-08-14 03:23:46,154: INFO: common: Directory created successfully]\n",
      "[2025-08-14 03:23:46,162: INFO: common: Directory created successfully]\n"
     ]
    },
    {
     "name": "stdout",
     "output_type": "stream",
     "text": [
      "[2025-08-14 03:23:47,059: INFO: 2027535185: artifacts/data_ingestion/data.zip downloaded successfully]\n"
     ]
    }
   ],
   "source": [
    "try:\n",
    "    config = ConfigurationManager()\n",
    "    data_ingestion_config = config.get_data_ingestion_config()\n",
    "    data_ingestion = DataIngestion(config = data_ingestion_config)\n",
    "    data_ingestion.download_data()\n",
    "    data_ingestion.extract_data()\n",
    "except Exception as e:\n",
    "    raise e"
   ]
  },
  {
   "cell_type": "code",
   "execution_count": null,
   "id": "5de91522",
   "metadata": {},
   "outputs": [],
   "source": []
  }
 ],
 "metadata": {
  "kernelspec": {
   "display_name": "air",
   "language": "python",
   "name": "python3"
  },
  "language_info": {
   "codemirror_mode": {
    "name": "ipython",
    "version": 3
   },
   "file_extension": ".py",
   "mimetype": "text/x-python",
   "name": "python",
   "nbconvert_exporter": "python",
   "pygments_lexer": "ipython3",
   "version": "3.10.18"
  }
 },
 "nbformat": 4,
 "nbformat_minor": 5
}
