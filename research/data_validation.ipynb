{
 "cells": [
  {
   "cell_type": "code",
   "execution_count": 1,
   "id": "6030fe7d",
   "metadata": {},
   "outputs": [
    {
     "data": {
      "text/plain": [
       "'e:\\\\MLOPS D\\\\MLOPS_PROJ_ON_DELHI_AIR_QUALITY\\\\research'"
      ]
     },
     "execution_count": 1,
     "metadata": {},
     "output_type": "execute_result"
    }
   ],
   "source": [
    "%pwd"
   ]
  },
  {
   "cell_type": "code",
   "execution_count": 2,
   "id": "0a194f92",
   "metadata": {},
   "outputs": [],
   "source": [
    "import os\n",
    "os.chdir(\"../\")"
   ]
  },
  {
   "cell_type": "code",
   "execution_count": 3,
   "id": "9331fbf4",
   "metadata": {},
   "outputs": [
    {
     "data": {
      "text/plain": [
       "'e:\\\\MLOPS D\\\\MLOPS_PROJ_ON_DELHI_AIR_QUALITY'"
      ]
     },
     "execution_count": 3,
     "metadata": {},
     "output_type": "execute_result"
    }
   ],
   "source": [
    "%pwd"
   ]
  },
  {
   "cell_type": "code",
   "execution_count": 4,
   "id": "d5f8853d",
   "metadata": {},
   "outputs": [],
   "source": [
    "# # 1 - update the config/config.yaml\n",
    "# data_validation:\n",
    "#   root_dir: artifacts/data_validation\n",
    "#   data_source: artifacts/data_ingestion/final_dataset.csv\n",
    "#   STATUS_FILE : artifacts/data_validation/status.txt"
   ]
  },
  {
   "cell_type": "code",
   "execution_count": 5,
   "id": "e43c1763",
   "metadata": {},
   "outputs": [],
   "source": [
    "# 2 - Update schema.yaml"
   ]
  },
  {
   "cell_type": "code",
   "execution_count": 6,
   "id": "0fd74d5e",
   "metadata": {},
   "outputs": [],
   "source": [
    "# 3 - update entity/config_entity.py\n",
    "from pathlib import Path\n",
    "from dataclasses import dataclass\n",
    "\n",
    "@dataclass(frozen=True)\n",
    "class DataValidationConfig:\n",
    "    root_dir : Path\n",
    "    data_source: Path\n",
    "    STATUS_FILE : str\n",
    "    all_schema : dict\n"
   ]
  },
  {
   "cell_type": "code",
   "execution_count": 10,
   "id": "d7fe156c",
   "metadata": {},
   "outputs": [
    {
     "name": "stdout",
     "output_type": "stream",
     "text": [
      "[2025-08-14 04:21:06,739: INFO: common: Directory created successfully]\n",
      "[2025-08-14 04:21:06,748: INFO: common: Directory created successfully]\n",
      "DataValidationConfig(root_dir='artifacts/data_validation', data_source='artifacts/data_ingestion/final_dataset.csv', STATUS_FILE='artifacts/data_validation/status.txt', all_schema=ConfigBox({'fixed acidity': 'float64', 'volatile acidity': 'float64', 'citric acid': 'float64', 'residual sugar': 'float64', 'chlorides': 'float64', 'free sulfur dioxide': 'float64', 'total sulfur dioxide': 'float64', 'density': 'float64', 'pH': 'float64', 'sulphates': 'float64', 'alcohol': 'float64', 'quality': 'int64'}))\n"
     ]
    }
   ],
   "source": [
    "# 4 - update src/config/configuration.py\n",
    "from pathlib import Path\n",
    "from src.ml_project.utils.common import read_yaml,create_dir\n",
    "from src.ml_project.constant import *\n",
    "\n",
    "class ConfigurationManager:\n",
    "    def __init__(self,config_file_path = CONFIG_FILE_PATH,schema_file_path = SCHEMA_FILE_PATH,params_file_path = PARAMS_FILE_PATH):\n",
    "        self.config = read_yaml(config_file_path)\n",
    "        self.schema = read_yaml(schema_file_path)\n",
    "        self.params = read_yaml(params_file_path)\n",
    "\n",
    "        create_dir([self.config.artifacts_root])\n",
    "    \n",
    "    def get_validation_data_config(self) -> DataValidationConfig:\n",
    "        config = self.config.data_validation\n",
    "        schema = self.schema.COLUMNS\n",
    "\n",
    "        create_dir([config.root_dir])\n",
    "\n",
    "        data_validation_config = DataValidationConfig(\n",
    "            root_dir = config.root_dir,\n",
    "            data_source = config.data_source,\n",
    "            STATUS_FILE = config.STATUS_FILE,\n",
    "            all_schema = schema,\n",
    "\n",
    "        )\n",
    "        return data_validation_config\n",
    "\n",
    "obje = ConfigurationManager()\n",
    "new = obje.get_validation_data_config()\n",
    "print(new)\n",
    "\n",
    "\n",
    "\n"
   ]
  },
  {
   "cell_type": "code",
   "execution_count": 23,
   "id": "055eba8a",
   "metadata": {},
   "outputs": [],
   "source": [
    "# 5 - src/ml_project/components/data_validation.py\n",
    "from pathlib import Path\n",
    "import pandas as pd\n",
    "class DataValidation:\n",
    "    def __init__(self,config:DataValidationConfig):\n",
    "        self.config = config\n",
    "\n",
    "    def status_file(self):\n",
    "        validation_status = None\n",
    "        data = pd.read_csv(self.config.data_source)\n",
    "        all_col = list(data.columns)\n",
    "        # print(all_col)\n",
    "        all_schema = self.config.all_schema.keys()\n",
    "\n",
    "        for cols in all_col:\n",
    "            if cols not in all_schema:\n",
    "                validation_status = False\n",
    "                with open(self.config.STATUS_FILE,'w') as f:\n",
    "                    f.write(f\"validation_status----> {validation_status}\")\n",
    "\n",
    "            else:\n",
    "                validation_status = True\n",
    "                with open(self.config.STATUS_FILE,'w') as f:\n",
    "                    f.write(f\"validation_status---> {validation_status}\")\n",
    "\n",
    "        return validation_status\n"
   ]
  },
  {
   "cell_type": "code",
   "execution_count": 27,
   "id": "7077408c",
   "metadata": {},
   "outputs": [
    {
     "name": "stdout",
     "output_type": "stream",
     "text": [
      "[2025-08-14 04:39:58,923: INFO: common: Directory created successfully]\n",
      "[2025-08-14 04:39:58,927: INFO: common: Directory created successfully]\n"
     ]
    }
   ],
   "source": [
    "try:\n",
    "    config = ConfigurationManager()\n",
    "    data_val_config = config.get_validation_data_config()\n",
    "    data_validation = DataValidation(config = data_val_config)\n",
    "    data_validation.status_file()\n",
    "except Exception as e:\n",
    "    raise e"
   ]
  },
  {
   "cell_type": "code",
   "execution_count": null,
   "id": "33e5b893",
   "metadata": {},
   "outputs": [],
   "source": []
  }
 ],
 "metadata": {
  "kernelspec": {
   "display_name": "air",
   "language": "python",
   "name": "python3"
  },
  "language_info": {
   "codemirror_mode": {
    "name": "ipython",
    "version": 3
   },
   "file_extension": ".py",
   "mimetype": "text/x-python",
   "name": "python",
   "nbconvert_exporter": "python",
   "pygments_lexer": "ipython3",
   "version": "3.10.18"
  }
 },
 "nbformat": 4,
 "nbformat_minor": 5
}
